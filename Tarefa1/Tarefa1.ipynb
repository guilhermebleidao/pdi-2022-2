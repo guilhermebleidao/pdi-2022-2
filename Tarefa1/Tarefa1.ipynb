{
  "nbformat": 4,
  "nbformat_minor": 0,
  "metadata": {
    "colab": {
      "name": "Tarefa1.ipynb",
      "provenance": [],
      "authorship_tag": "ABX9TyNdqyL/GyPm46W32il51E/u",
      "include_colab_link": true
    },
    "kernelspec": {
      "name": "python3",
      "display_name": "Python 3"
    },
    "language_info": {
      "name": "python"
    }
  },
  "cells": [
    {
      "cell_type": "markdown",
      "metadata": {
        "id": "view-in-github",
        "colab_type": "text"
      },
      "source": [
        "<a href=\"https://colab.research.google.com/github/guilhermebleidao/pdi-2022-2/blob/main/Tarefa1/Tarefa1.ipynb\" target=\"_parent\"><img src=\"https://colab.research.google.com/assets/colab-badge.svg\" alt=\"Open In Colab\"/></a>"
      ]
    },
    {
      "cell_type": "markdown",
      "source": [
        "Importando arquivos e bibliotecas"
      ],
      "metadata": {
        "id": "0xXiDFPPwWg4"
      }
    },
    {
      "cell_type": "code",
      "execution_count": null,
      "metadata": {
        "id": "d7Cn-0NCunt8"
      },
      "outputs": [],
      "source": [
        "import matplotlib.pyplot as plt\n",
        "import zipfile\n",
        "import os\n",
        "\n",
        "!wget --no-check-certificate \\\n",
        "    \"https://github.com/guilhermebleidao/pdi-2022-2/archive/refs/heads/main.zip\" \\\n",
        "    -O \"/tmp/pdi-2022-2.zip\"\n",
        "\n",
        "zip_ref = zipfile.ZipFile('/tmp/pdi-2022-2.zip', 'r') #Opens the zip file in read mode\n",
        "zip_ref.extractall('/tmp') #Extracts the files into the /tmp folder\n",
        "zip_ref.close()"
      ]
    },
    {
      "cell_type": "code",
      "source": [
        "image = plt.imread('/tmp/pdi-2022-2-main/Tarefa1/Base1/Hulk.png')\n",
        "plt.imshow(image, cmap='gray')"
      ],
      "metadata": {
        "id": "ngQkGMvwwCVj"
      },
      "execution_count": null,
      "outputs": []
    }
  ]
}